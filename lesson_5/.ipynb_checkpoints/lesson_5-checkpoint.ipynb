{
 "cells": [
  {
   "cell_type": "code",
   "execution_count": 1,
   "id": "5f6cd15b-cb9e-4783-a0e6-e8d2c6770a90",
   "metadata": {
    "tags": []
   },
   "outputs": [],
   "source": [
    "from pyspark import SparkContext\n",
    "from pyspark.sql import SQLContext, Row\n",
    "from pyspark.mllib.stat import Statistics\n",
    "from pyspark.sql.functions import isnan, when, count, col\n",
    "import pandas as pd"
   ]
  },
  {
   "cell_type": "markdown",
   "id": "2eeb4a1c-2cfd-4206-bf30-71d249568b04",
   "metadata": {},
   "source": [
    "## Explanation of `pyspark.sql.functions`\n",
    "\n",
    "- `isnan`: This function checks whether a column contains **\"NaN\"** (Not a Number) values.\n",
    "- `when`: This function is used to create conditional expressions. It is similar to an **\"if-else\"** statement, where you specify a condition and a result if the condition is met.\n",
    "- `count`: This function counts the **number of occurrences** that match a condition.\n",
    "- `col`: This function is used to refer to a **column** in the DataFrame."
   ]
  },
  {
   "cell_type": "code",
   "execution_count": 2,
   "id": "206e7a10-4415-4c72-b0e5-d681b8b5c87b",
   "metadata": {
    "tags": []
   },
   "outputs": [
    {
     "name": "stderr",
     "output_type": "stream",
     "text": [
      "24/10/24 10:41:13 WARN Utils: Your hostname, htetaunglynn-XPS-13-9310 resolves to a loopback address: 127.0.1.1; using 192.168.1.108 instead (on interface wlp0s20f3)\n",
      "24/10/24 10:41:13 WARN Utils: Set SPARK_LOCAL_IP if you need to bind to another address\n",
      "Setting default log level to \"WARN\".\n",
      "To adjust logging level use sc.setLogLevel(newLevel). For SparkR, use setLogLevel(newLevel).\n",
      "24/10/24 10:41:14 WARN NativeCodeLoader: Unable to load native-hadoop library for your platform... using builtin-java classes where applicable\n",
      "24/10/24 10:41:15 WARN Utils: Service 'SparkUI' could not bind on port 4040. Attempting port 4041.\n",
      "/home/htetaunglynn/anaconda3/lib/python3.11/site-packages/pyspark/sql/context.py:113: FutureWarning: Deprecated in 3.0.0. Use SparkSession.builder.getOrCreate() instead.\n",
      "  warnings.warn(\n"
     ]
    }
   ],
   "source": [
    "sc = SparkContext()\n",
    "sqlc = SQLContext(sc)"
   ]
  },
  {
   "cell_type": "code",
   "execution_count": 3,
   "id": "c365f4e2-c2d6-467f-b3cb-29a85e907953",
   "metadata": {
    "tags": []
   },
   "outputs": [
    {
     "name": "stdout",
     "output_type": "stream",
     "text": [
      "+------------+-----------+------------+-----------+-------+\n",
      "|sepal_length|sepal_width|petal_length|petal_width|species|\n",
      "+------------+-----------+------------+-----------+-------+\n",
      "|         5.1|        3.5|         1.4|        0.2| setosa|\n",
      "|         4.9|        3.0|         1.4|        0.2| setosa|\n",
      "|         4.7|        3.2|         1.3|        0.2| setosa|\n",
      "|         4.6|        3.1|         1.5|        0.2| setosa|\n",
      "|         5.0|        3.6|         1.4|        0.2| setosa|\n",
      "+------------+-----------+------------+-----------+-------+\n",
      "only showing top 5 rows\n",
      "\n"
     ]
    }
   ],
   "source": [
    "df = sqlc.read.format('csv').options(header='true', inferschema='true').load('iris.csv')\n",
    "df.show(5)"
   ]
  },
  {
   "cell_type": "code",
   "execution_count": 4,
   "id": "1cb327f6-472d-4775-bd45-de187480f303",
   "metadata": {
    "tags": []
   },
   "outputs": [
    {
     "data": {
      "text/plain": [
       "['sepal_length', 'sepal_width', 'petal_length', 'petal_width', 'species']"
      ]
     },
     "execution_count": 4,
     "metadata": {},
     "output_type": "execute_result"
    }
   ],
   "source": [
    "df.columns"
   ]
  },
  {
   "cell_type": "code",
   "execution_count": 5,
   "id": "32c2547b-4b75-414c-973c-a21ba657dcc9",
   "metadata": {
    "tags": []
   },
   "outputs": [
    {
     "name": "stdout",
     "output_type": "stream",
     "text": [
      "+------------+\n",
      "|sepal_length|\n",
      "+------------+\n",
      "|         5.1|\n",
      "|         4.9|\n",
      "|         4.7|\n",
      "|         4.6|\n",
      "|         5.0|\n",
      "+------------+\n",
      "only showing top 5 rows\n",
      "\n"
     ]
    }
   ],
   "source": [
    "df.select(df['sepal_length']).show(5)"
   ]
  },
  {
   "cell_type": "code",
   "execution_count": 6,
   "id": "9b20644f-0e84-4d2e-ade6-8b8e0e796f6a",
   "metadata": {
    "tags": []
   },
   "outputs": [
    {
     "name": "stdout",
     "output_type": "stream",
     "text": [
      "+--------------+\n",
      "|isnan(species)|\n",
      "+--------------+\n",
      "|         false|\n",
      "|         false|\n",
      "|         false|\n",
      "|         false|\n",
      "|         false|\n",
      "+--------------+\n",
      "only showing top 5 rows\n",
      "\n"
     ]
    }
   ],
   "source": [
    "# check whether NaN value include or not\n",
    "df.select(isnan('species')).show(5)"
   ]
  },
  {
   "cell_type": "code",
   "execution_count": 7,
   "id": "d0aef272-c732-4da3-b774-6b631bfbd429",
   "metadata": {
    "tags": []
   },
   "outputs": [
    {
     "name": "stdout",
     "output_type": "stream",
     "text": [
      "+-----------------+\n",
      "|(species IS NULL)|\n",
      "+-----------------+\n",
      "|            false|\n",
      "|            false|\n",
      "|            false|\n",
      "|            false|\n",
      "|            false|\n",
      "+-----------------+\n",
      "only showing top 5 rows\n",
      "\n"
     ]
    }
   ],
   "source": [
    "# check whether Null value include or not\n",
    "df.select(col('species').isNull()).show(5)"
   ]
  },
  {
   "cell_type": "code",
   "execution_count": 8,
   "id": "b79af083-39b6-4f6a-b355-2bba3a770282",
   "metadata": {
    "tags": []
   },
   "outputs": [
    {
     "name": "stdout",
     "output_type": "stream",
     "text": [
      "+------+\n",
      "| hello|\n",
      "+------+\n",
      "|setosa|\n",
      "|setosa|\n",
      "|setosa|\n",
      "|setosa|\n",
      "|setosa|\n",
      "+------+\n",
      "only showing top 5 rows\n",
      "\n"
     ]
    }
   ],
   "source": [
    "df.select(df['species'].alias('hello')).show(5)"
   ]
  },
  {
   "cell_type": "code",
   "execution_count": 9,
   "id": "8e6c8f11-a279-432d-84eb-aea224dd8033",
   "metadata": {},
   "outputs": [
    {
     "data": {
      "text/plain": [
       "Column<'CASE WHEN (isnan(species) OR (species IS NULL)) THEN species END'>"
      ]
     },
     "execution_count": 9,
     "metadata": {},
     "output_type": "execute_result"
    }
   ],
   "source": [
    "# If the value in 'species' column is 'NaN' or 'Null', it will return 'species'. Unless returns None.\n",
    "when(isnan('species') | col('species').isNull(), 'species')"
   ]
  },
  {
   "cell_type": "code",
   "execution_count": 10,
   "id": "64740bbf-f5d9-4ac1-8b1e-e0f387e2ab42",
   "metadata": {
    "tags": []
   },
   "outputs": [
    {
     "data": {
      "text/plain": [
       "Column<'count(CASE WHEN (isnan(species) OR (species IS NULL)) THEN species END) AS null_count'>"
      ]
     },
     "execution_count": 10,
     "metadata": {},
     "output_type": "execute_result"
    }
   ],
   "source": [
    "count(when(isnan('species') | col('species').isNull(), 'species')).alias('null_count')"
   ]
  },
  {
   "cell_type": "code",
   "execution_count": 11,
   "id": "f9586e5e-9428-473c-9520-3c03b3b086da",
   "metadata": {
    "tags": []
   },
   "outputs": [
    {
     "name": "stdout",
     "output_type": "stream",
     "text": [
      "+----------+\n",
      "|null_count|\n",
      "+----------+\n",
      "|         0|\n",
      "+----------+\n",
      "\n"
     ]
    }
   ],
   "source": [
    "df.select(count(when(isnan('species') | col('species').isNull(), 'species')).alias('null_count')).show()"
   ]
  },
  {
   "cell_type": "code",
   "execution_count": 12,
   "id": "58fc0966-e3c1-438e-8460-de04f4de0d7a",
   "metadata": {
    "tags": []
   },
   "outputs": [
    {
     "name": "stdout",
     "output_type": "stream",
     "text": [
      "+------------+\n",
      "|sepal_length|\n",
      "+------------+\n",
      "|           0|\n",
      "+------------+\n",
      "\n",
      "None\n",
      "+------------+-----------+\n",
      "|sepal_length|sepal_width|\n",
      "+------------+-----------+\n",
      "|           0|          5|\n",
      "+------------+-----------+\n",
      "\n",
      "None\n",
      "+------------+-----------+------------+\n",
      "|sepal_length|sepal_width|petal_length|\n",
      "+------------+-----------+------------+\n",
      "|           0|          5|           3|\n",
      "+------------+-----------+------------+\n",
      "\n",
      "None\n",
      "+------------+-----------+------------+-----------+\n",
      "|sepal_length|sepal_width|petal_length|petal_width|\n",
      "+------------+-----------+------------+-----------+\n",
      "|           0|          5|           3|          0|\n",
      "+------------+-----------+------------+-----------+\n",
      "\n",
      "None\n",
      "+------------+-----------+------------+-----------+-------+\n",
      "|sepal_length|sepal_width|petal_length|petal_width|species|\n",
      "+------------+-----------+------------+-----------+-------+\n",
      "|           0|          5|           3|          0|      0|\n",
      "+------------+-----------+------------+-----------+-------+\n",
      "\n",
      "None\n",
      "FINAL RESULT AS A PYSPARK DATAFRAME      \n",
      "************************************\n",
      "+------------+-----------+------------+-----------+-------+\n",
      "|sepal_length|sepal_width|petal_length|petal_width|species|\n",
      "+------------+-----------+------------+-----------+-------+\n",
      "|           0|          5|           3|          0|      0|\n",
      "+------------+-----------+------------+-----------+-------+\n",
      "\n"
     ]
    }
   ],
   "source": [
    "null_count = []\n",
    "for c in df.columns:\n",
    "    \n",
    "    check = when(isnan(c) | col(c).isNull(), c) # conditional check for NaN or null values\n",
    "    \n",
    "    num = count(check)                          # number of NaN or null values\n",
    "    \n",
    "    list_ = num.alias(c)                        # collect col name and its null count\n",
    "    # print(type(list_))                        # type = 'pyspark.sql.column.Column'\n",
    "    \n",
    "    null_count.append(list_)                    # append collected data into a list\n",
    "    print(df.select(null_count).show())\n",
    "\n",
    "print(\"FINAL RESULT AS A PYSPARK DATAFRAME \\\n",
    "     \\n************************************\")\n",
    "df.select(null_count).show()                    # show as a pyspark data frame\n"
   ]
  },
  {
   "cell_type": "code",
   "execution_count": 13,
   "id": "3efced2f-32d3-49d5-a7f5-8daf74c2c503",
   "metadata": {
    "tags": []
   },
   "outputs": [
    {
     "name": "stdout",
     "output_type": "stream",
     "text": [
      "+------------+-----------+------------+-----------+-------+\n",
      "|sepal_length|sepal_width|petal_length|petal_width|species|\n",
      "+------------+-----------+------------+-----------+-------+\n",
      "|           0|          5|           3|          0|      0|\n",
      "+------------+-----------+------------+-----------+-------+\n",
      "\n"
     ]
    }
   ],
   "source": [
    "# same with above result using vectorization\n",
    "df.select([count(when(isnan(c) | col(c).isNull(),\n",
    "                c)).alias(c) for c in df.columns]).show()"
   ]
  },
  {
   "cell_type": "code",
   "execution_count": 14,
   "id": "9113c15f-ceca-4275-bf44-d76d1630142b",
   "metadata": {
    "tags": []
   },
   "outputs": [
    {
     "data": {
      "text/plain": [
       "0"
      ]
     },
     "execution_count": 14,
     "metadata": {},
     "output_type": "execute_result"
    }
   ],
   "source": [
    "# can operate even the type of word doesn't same\n",
    "df.filter(col('Sepal_Length').isNull()).count()"
   ]
  },
  {
   "cell_type": "code",
   "execution_count": 15,
   "id": "431f5338-f651-4db6-bf53-9091378cb6a1",
   "metadata": {
    "tags": []
   },
   "outputs": [
    {
     "name": "stdout",
     "output_type": "stream",
     "text": [
      "+------------+-----------+------------+-----------+-------+\n",
      "|sepal_length|sepal_width|petal_length|petal_width|species|\n",
      "+------------+-----------+------------+-----------+-------+\n",
      "|           0|          5|           3|          0|      0|\n",
      "+------------+-----------+------------+-----------+-------+\n",
      "\n"
     ]
    }
   ],
   "source": [
    "df.select([count(when(isnan(i) | col(i).isNull(), i)).alias(i) for i in df.columns]).show()"
   ]
  },
  {
   "cell_type": "code",
   "execution_count": 16,
   "id": "ab08e65c-08d1-4b77-a358-f5eaf0f7da4f",
   "metadata": {
    "tags": []
   },
   "outputs": [
    {
     "name": "stderr",
     "output_type": "stream",
     "text": [
      "24/10/24 10:41:26 WARN SparkStringUtils: Truncated the string representation of a plan since it was too large. This behavior can be adjusted by setting 'spark.sql.debug.maxToStringFields'.\n"
     ]
    },
    {
     "name": "stdout",
     "output_type": "stream",
     "text": [
      "+-------+------------------+------------------+------------------+------------------+---------+\n",
      "|summary|      sepal_length|       sepal_width|      petal_length|       petal_width|  species|\n",
      "+-------+------------------+------------------+------------------+------------------+---------+\n",
      "|  count|               150|               145|               147|               150|      150|\n",
      "|   mean| 5.843333333333335| 3.055862068965518|3.7605442176870776|1.1986666666666672|     NULL|\n",
      "| stddev|0.8280661279778637|0.4409390015241722| 1.781124695592811|0.7631607417008414|     NULL|\n",
      "|    min|               4.3|               2.0|               1.0|               0.1|   setosa|\n",
      "|    max|               7.9|               4.4|               6.9|               2.5|virginica|\n",
      "+-------+------------------+------------------+------------------+------------------+---------+\n",
      "\n"
     ]
    }
   ],
   "source": [
    "df.describe().show()"
   ]
  },
  {
   "cell_type": "code",
   "execution_count": 17,
   "id": "6ed562d6-442c-4d49-960f-b675174ae909",
   "metadata": {
    "tags": []
   },
   "outputs": [
    {
     "name": "stdout",
     "output_type": "stream",
     "text": [
      "+-------+------------+-----------+------------+-----------+-------+\n",
      "|summary|sepal_length|sepal_width|petal_length|petal_width|species|\n",
      "+-------+------------+-----------+------------+-----------+-------+\n",
      "|  count|         150|        145|         147|        150|    150|\n",
      "+-------+------------+-----------+------------+-----------+-------+\n",
      "only showing top 1 row\n",
      "\n"
     ]
    }
   ],
   "source": [
    "df.describe().show(1)"
   ]
  },
  {
   "cell_type": "code",
   "execution_count": 18,
   "id": "b2554f40-1bbb-4009-ac6f-2d82115e2245",
   "metadata": {
    "tags": []
   },
   "outputs": [
    {
     "name": "stdout",
     "output_type": "stream",
     "text": [
      "+------------+-----------+------------+-----------+----------+\n",
      "|sepal_length|sepal_width|petal_length|petal_width|   species|\n",
      "+------------+-----------+------------+-----------+----------+\n",
      "|         4.8|       NULL|         1.4|        0.1|    setosa|\n",
      "|         4.3|       NULL|         1.1|        0.1|    setosa|\n",
      "|         4.8|       NULL|         1.4|        0.3|    setosa|\n",
      "|         5.9|       NULL|         4.2|        1.5|versicolor|\n",
      "|         6.7|       NULL|         5.0|        1.7|versicolor|\n",
      "+------------+-----------+------------+-----------+----------+\n",
      "\n"
     ]
    }
   ],
   "source": [
    "# check the location of NULL value in 'sepal_width' column\n",
    "df.where(col('SEPAL_WIDTH').isNull()).show()"
   ]
  },
  {
   "cell_type": "code",
   "execution_count": 19,
   "id": "a249cfbb-546b-4afd-9fa3-b0f2f5b43786",
   "metadata": {
    "tags": []
   },
   "outputs": [
    {
     "name": "stdout",
     "output_type": "stream",
     "text": [
      "+------------+-----------+------------+-----------+----------+\n",
      "|sepal_length|sepal_width|petal_length|petal_width|   species|\n",
      "+------------+-----------+------------+-----------+----------+\n",
      "|         4.8|       NULL|         1.4|        0.1|    setosa|\n",
      "|         4.3|       NULL|         1.1|        0.1|    setosa|\n",
      "|         4.8|       NULL|         1.4|        0.3|    setosa|\n",
      "|         5.9|       NULL|         4.2|        1.5|versicolor|\n",
      "|         6.7|       NULL|         5.0|        1.7|versicolor|\n",
      "+------------+-----------+------------+-----------+----------+\n",
      "\n"
     ]
    }
   ],
   "source": [
    "# same result as above\n",
    "df.filter(col('sepal_width').isNull()).show()"
   ]
  },
  {
   "cell_type": "code",
   "execution_count": 20,
   "id": "99b8c524-da58-435e-96a5-5c418fbdd408",
   "metadata": {
    "tags": []
   },
   "outputs": [
    {
     "name": "stdout",
     "output_type": "stream",
     "text": [
      "+------------+\n",
      "|sepal_length|\n",
      "+------------+\n",
      "|         4.8|\n",
      "|         4.3|\n",
      "|         4.8|\n",
      "|         5.9|\n",
      "|         6.7|\n",
      "+------------+\n",
      "\n"
     ]
    }
   ],
   "source": [
    "# show only sepal_length column instead the whole DF\n",
    "df.where(col('SEPAL_WIDTH').isNull()).select('sepal_length').show()"
   ]
  },
  {
   "cell_type": "code",
   "execution_count": 21,
   "id": "6613b95c-36da-4562-b0ba-8dba920b6dbd",
   "metadata": {
    "tags": []
   },
   "outputs": [
    {
     "data": {
      "text/plain": [
       "150"
      ]
     },
     "execution_count": 21,
     "metadata": {},
     "output_type": "execute_result"
    }
   ],
   "source": [
    "# total row count (original)\n",
    "df.count()"
   ]
  },
  {
   "cell_type": "code",
   "execution_count": 22,
   "id": "9020a0ac-e584-4561-a4cd-5a586f7e367a",
   "metadata": {
    "tags": []
   },
   "outputs": [
    {
     "data": {
      "text/plain": [
       "145"
      ]
     },
     "execution_count": 22,
     "metadata": {},
     "output_type": "execute_result"
    }
   ],
   "source": [
    "# total row count (after removing NULL)\n",
    "df.select('sepal_width').dropna().count()"
   ]
  },
  {
   "cell_type": "code",
   "execution_count": 23,
   "id": "d8d641d3-3859-48fc-9398-632c074de890",
   "metadata": {
    "tags": []
   },
   "outputs": [
    {
     "name": "stdout",
     "output_type": "stream",
     "text": [
      "+------------+-----------+------------+-----------+----------+\n",
      "|sepal_length|sepal_width|petal_length|petal_width|   species|\n",
      "+------------+-----------+------------+-----------+----------+\n",
      "|         4.8|       NULL|         1.4|        0.1|    setosa|\n",
      "|         4.3|       NULL|         1.1|        0.1|    setosa|\n",
      "|         4.8|       NULL|         1.4|        0.3|    setosa|\n",
      "|         5.9|       NULL|         4.2|        1.5|versicolor|\n",
      "|         6.7|       NULL|         5.0|        1.7|versicolor|\n",
      "+------------+-----------+------------+-----------+----------+\n",
      "\n"
     ]
    }
   ],
   "source": [
    "df.filter(col('sepal_width').isNull()).show()"
   ]
  },
  {
   "cell_type": "code",
   "execution_count": 24,
   "id": "7b59a82f-0145-4dc0-84fc-4a31748cfaf0",
   "metadata": {
    "tags": []
   },
   "outputs": [
    {
     "name": "stdout",
     "output_type": "stream",
     "text": [
      "+-----------+------------+\n",
      "|sepal_width|petal_length|\n",
      "+-----------+------------+\n",
      "|          0|           0|\n",
      "+-----------+------------+\n",
      "\n"
     ]
    }
   ],
   "source": [
    "y = df.select('sepal_width','petal_length').fillna(1)\n",
    "y.select([count(when(isnan(i) | col(i).isNull(), i)) \\\n",
    "          .alias(i) for i in y.columns]).show()"
   ]
  },
  {
   "cell_type": "code",
   "execution_count": 25,
   "id": "3d2a46cc-67c1-44fa-a117-c94df3eb8bd9",
   "metadata": {
    "tags": []
   },
   "outputs": [],
   "source": [
    "z = df.fillna(1)"
   ]
  },
  {
   "cell_type": "code",
   "execution_count": 26,
   "id": "a0b551ec-191e-46fc-9d71-46c61030f2e0",
   "metadata": {
    "tags": []
   },
   "outputs": [
    {
     "name": "stdout",
     "output_type": "stream",
     "text": [
      "+------------+-----------+------------+-----------+-------+\n",
      "|sepal_length|sepal_width|petal_length|petal_width|species|\n",
      "+------------+-----------+------------+-----------+-------+\n",
      "|           0|          0|           0|          0|      0|\n",
      "+------------+-----------+------------+-----------+-------+\n",
      "\n"
     ]
    }
   ],
   "source": [
    "z.select([count(when(isnan(k) | col(k).isNull(), k)) \\\n",
    "          .alias(k) for k in z.columns]).show()"
   ]
  },
  {
   "cell_type": "code",
   "execution_count": 27,
   "id": "0c43bbb7-f4f8-49a2-aa19-ed0b678f350d",
   "metadata": {
    "tags": []
   },
   "outputs": [
    {
     "data": {
      "text/plain": [
       "0.026596550288657865"
      ]
     },
     "execution_count": 27,
     "metadata": {},
     "output_type": "execute_result"
    }
   ],
   "source": [
    "df.corr('sepal_length', 'sepal_width')"
   ]
  },
  {
   "cell_type": "code",
   "execution_count": 28,
   "id": "843edc00-1ffc-488f-af64-4d55607beca7",
   "metadata": {
    "tags": []
   },
   "outputs": [
    {
     "name": "stdout",
     "output_type": "stream",
     "text": [
      "+------------+-----------+------------+-----------+\n",
      "|sepal_length|sepal_width|petal_length|petal_width|\n",
      "+------------+-----------+------------+-----------+\n",
      "|         5.1|        3.5|         1.4|        0.2|\n",
      "|         4.9|        3.0|         1.4|        0.2|\n",
      "|         4.7|        3.2|         1.3|        0.2|\n",
      "|         4.6|        3.1|         1.5|        0.2|\n",
      "|         5.0|        3.6|         1.4|        0.2|\n",
      "+------------+-----------+------------+-----------+\n",
      "only showing top 5 rows\n",
      "\n"
     ]
    }
   ],
   "source": [
    "a = z.drop('species')\n",
    "a.show(5)"
   ]
  },
  {
   "cell_type": "code",
   "execution_count": 29,
   "id": "657a178d-0bbb-4de3-96af-e184553dd05b",
   "metadata": {
    "tags": []
   },
   "outputs": [
    {
     "data": {
      "text/plain": [
       "PythonRDD[177] at RDD at PythonRDD.scala:53"
      ]
     },
     "execution_count": 29,
     "metadata": {},
     "output_type": "execute_result"
    }
   ],
   "source": [
    "# RDD - Resilient Distributed Dataset\n",
    "features = a.rdd.map(lambda row: row[0:])\n",
    "features"
   ]
  },
  {
   "cell_type": "code",
   "execution_count": 30,
   "id": "e159a22c-3233-4505-9245-a5112d98b389",
   "metadata": {
    "tags": []
   },
   "outputs": [
    {
     "name": "stderr",
     "output_type": "stream",
     "text": [
      "                                                                                \r"
     ]
    },
    {
     "data": {
      "text/plain": [
       "array([[ 1.        , -0.0059379 ,  0.85314895,  0.81795363],\n",
       "       [-0.0059379 ,  1.        , -0.21291876, -0.20042214],\n",
       "       [ 0.85314895, -0.21291876,  1.        ,  0.94337041],\n",
       "       [ 0.81795363, -0.20042214,  0.94337041,  1.        ]])"
      ]
     },
     "execution_count": 30,
     "metadata": {},
     "output_type": "execute_result"
    }
   ],
   "source": [
    "corr_matrix = Statistics.corr(features, method='pearson')\n",
    "corr_matrix"
   ]
  },
  {
   "cell_type": "code",
   "execution_count": 31,
   "id": "fcfb01e8-28a1-400b-a345-0875e3a0f488",
   "metadata": {
    "tags": []
   },
   "outputs": [
    {
     "data": {
      "text/html": [
       "<div>\n",
       "<style scoped>\n",
       "    .dataframe tbody tr th:only-of-type {\n",
       "        vertical-align: middle;\n",
       "    }\n",
       "\n",
       "    .dataframe tbody tr th {\n",
       "        vertical-align: top;\n",
       "    }\n",
       "\n",
       "    .dataframe thead th {\n",
       "        text-align: right;\n",
       "    }\n",
       "</style>\n",
       "<table border=\"1\" class=\"dataframe\">\n",
       "  <thead>\n",
       "    <tr style=\"text-align: right;\">\n",
       "      <th></th>\n",
       "      <th>0</th>\n",
       "      <th>1</th>\n",
       "      <th>2</th>\n",
       "      <th>3</th>\n",
       "    </tr>\n",
       "  </thead>\n",
       "  <tbody>\n",
       "    <tr>\n",
       "      <th>0</th>\n",
       "      <td>1.000000</td>\n",
       "      <td>-0.005938</td>\n",
       "      <td>0.853149</td>\n",
       "      <td>0.817954</td>\n",
       "    </tr>\n",
       "    <tr>\n",
       "      <th>1</th>\n",
       "      <td>-0.005938</td>\n",
       "      <td>1.000000</td>\n",
       "      <td>-0.212919</td>\n",
       "      <td>-0.200422</td>\n",
       "    </tr>\n",
       "    <tr>\n",
       "      <th>2</th>\n",
       "      <td>0.853149</td>\n",
       "      <td>-0.212919</td>\n",
       "      <td>1.000000</td>\n",
       "      <td>0.943370</td>\n",
       "    </tr>\n",
       "    <tr>\n",
       "      <th>3</th>\n",
       "      <td>0.817954</td>\n",
       "      <td>-0.200422</td>\n",
       "      <td>0.943370</td>\n",
       "      <td>1.000000</td>\n",
       "    </tr>\n",
       "  </tbody>\n",
       "</table>\n",
       "</div>"
      ],
      "text/plain": [
       "          0         1         2         3\n",
       "0  1.000000 -0.005938  0.853149  0.817954\n",
       "1 -0.005938  1.000000 -0.212919 -0.200422\n",
       "2  0.853149 -0.212919  1.000000  0.943370\n",
       "3  0.817954 -0.200422  0.943370  1.000000"
      ]
     },
     "execution_count": 31,
     "metadata": {},
     "output_type": "execute_result"
    }
   ],
   "source": [
    "corr_df = pd.DataFrame(corr_matrix)\n",
    "corr_df"
   ]
  },
  {
   "cell_type": "code",
   "execution_count": 35,
   "id": "df41eb78-d0e1-4a9d-b311-9b080421f296",
   "metadata": {
    "tags": []
   },
   "outputs": [
    {
     "data": {
      "text/plain": [
       "RangeIndex(start=0, stop=4, step=1)"
      ]
     },
     "execution_count": 35,
     "metadata": {},
     "output_type": "execute_result"
    }
   ],
   "source": [
    "corr_df.index"
   ]
  },
  {
   "cell_type": "code",
   "execution_count": 36,
   "id": "776c89b5-015e-4dbb-8e5b-083832f6889f",
   "metadata": {
    "tags": []
   },
   "outputs": [
    {
     "data": {
      "text/plain": [
       "['sepal_length', 'sepal_width', 'petal_length', 'petal_width']"
      ]
     },
     "execution_count": 36,
     "metadata": {},
     "output_type": "execute_result"
    }
   ],
   "source": [
    "corr_df.columns = a.columns\n",
    "a.columns"
   ]
  },
  {
   "cell_type": "code",
   "execution_count": 37,
   "id": "b5ae6ae2-c246-4aa8-b243-8de4f2600762",
   "metadata": {
    "tags": []
   },
   "outputs": [
    {
     "data": {
      "text/html": [
       "<div>\n",
       "<style scoped>\n",
       "    .dataframe tbody tr th:only-of-type {\n",
       "        vertical-align: middle;\n",
       "    }\n",
       "\n",
       "    .dataframe tbody tr th {\n",
       "        vertical-align: top;\n",
       "    }\n",
       "\n",
       "    .dataframe thead th {\n",
       "        text-align: right;\n",
       "    }\n",
       "</style>\n",
       "<table border=\"1\" class=\"dataframe\">\n",
       "  <thead>\n",
       "    <tr style=\"text-align: right;\">\n",
       "      <th></th>\n",
       "      <th>sepal_length</th>\n",
       "      <th>sepal_width</th>\n",
       "      <th>petal_length</th>\n",
       "      <th>petal_width</th>\n",
       "    </tr>\n",
       "  </thead>\n",
       "  <tbody>\n",
       "    <tr>\n",
       "      <th>0</th>\n",
       "      <td>1.000000</td>\n",
       "      <td>-0.005938</td>\n",
       "      <td>0.853149</td>\n",
       "      <td>0.817954</td>\n",
       "    </tr>\n",
       "    <tr>\n",
       "      <th>1</th>\n",
       "      <td>-0.005938</td>\n",
       "      <td>1.000000</td>\n",
       "      <td>-0.212919</td>\n",
       "      <td>-0.200422</td>\n",
       "    </tr>\n",
       "    <tr>\n",
       "      <th>2</th>\n",
       "      <td>0.853149</td>\n",
       "      <td>-0.212919</td>\n",
       "      <td>1.000000</td>\n",
       "      <td>0.943370</td>\n",
       "    </tr>\n",
       "    <tr>\n",
       "      <th>3</th>\n",
       "      <td>0.817954</td>\n",
       "      <td>-0.200422</td>\n",
       "      <td>0.943370</td>\n",
       "      <td>1.000000</td>\n",
       "    </tr>\n",
       "  </tbody>\n",
       "</table>\n",
       "</div>"
      ],
      "text/plain": [
       "   sepal_length  sepal_width  petal_length  petal_width\n",
       "0      1.000000    -0.005938      0.853149     0.817954\n",
       "1     -0.005938     1.000000     -0.212919    -0.200422\n",
       "2      0.853149    -0.212919      1.000000     0.943370\n",
       "3      0.817954    -0.200422      0.943370     1.000000"
      ]
     },
     "execution_count": 37,
     "metadata": {},
     "output_type": "execute_result"
    }
   ],
   "source": [
    "corr_df"
   ]
  },
  {
   "cell_type": "code",
   "execution_count": 38,
   "id": "9e6a0116-68aa-4b43-bbd7-c1c3240b4327",
   "metadata": {
    "tags": []
   },
   "outputs": [
    {
     "data": {
      "text/html": [
       "<div>\n",
       "<style scoped>\n",
       "    .dataframe tbody tr th:only-of-type {\n",
       "        vertical-align: middle;\n",
       "    }\n",
       "\n",
       "    .dataframe tbody tr th {\n",
       "        vertical-align: top;\n",
       "    }\n",
       "\n",
       "    .dataframe thead th {\n",
       "        text-align: right;\n",
       "    }\n",
       "</style>\n",
       "<table border=\"1\" class=\"dataframe\">\n",
       "  <thead>\n",
       "    <tr style=\"text-align: right;\">\n",
       "      <th></th>\n",
       "      <th>sepal_length</th>\n",
       "      <th>sepal_width</th>\n",
       "      <th>petal_length</th>\n",
       "      <th>petal_width</th>\n",
       "    </tr>\n",
       "  </thead>\n",
       "  <tbody>\n",
       "    <tr>\n",
       "      <th>sepal_length</th>\n",
       "      <td>1.000000</td>\n",
       "      <td>-0.005938</td>\n",
       "      <td>0.853149</td>\n",
       "      <td>0.817954</td>\n",
       "    </tr>\n",
       "    <tr>\n",
       "      <th>sepal_width</th>\n",
       "      <td>-0.005938</td>\n",
       "      <td>1.000000</td>\n",
       "      <td>-0.212919</td>\n",
       "      <td>-0.200422</td>\n",
       "    </tr>\n",
       "    <tr>\n",
       "      <th>petal_length</th>\n",
       "      <td>0.853149</td>\n",
       "      <td>-0.212919</td>\n",
       "      <td>1.000000</td>\n",
       "      <td>0.943370</td>\n",
       "    </tr>\n",
       "    <tr>\n",
       "      <th>petal_width</th>\n",
       "      <td>0.817954</td>\n",
       "      <td>-0.200422</td>\n",
       "      <td>0.943370</td>\n",
       "      <td>1.000000</td>\n",
       "    </tr>\n",
       "  </tbody>\n",
       "</table>\n",
       "</div>"
      ],
      "text/plain": [
       "              sepal_length  sepal_width  petal_length  petal_width\n",
       "sepal_length      1.000000    -0.005938      0.853149     0.817954\n",
       "sepal_width      -0.005938     1.000000     -0.212919    -0.200422\n",
       "petal_length      0.853149    -0.212919      1.000000     0.943370\n",
       "petal_width       0.817954    -0.200422      0.943370     1.000000"
      ]
     },
     "execution_count": 38,
     "metadata": {},
     "output_type": "execute_result"
    }
   ],
   "source": [
    "corr_df.index, corr_df.columns = a.columns, a.columns\n",
    "corr_df"
   ]
  },
  {
   "cell_type": "code",
   "execution_count": null,
   "id": "9aa01c81-41ad-444a-aa46-6207cbe90945",
   "metadata": {},
   "outputs": [],
   "source": []
  }
 ],
 "metadata": {
  "kernelspec": {
   "display_name": "Python 3 (ipykernel)",
   "language": "python",
   "name": "python3"
  },
  "language_info": {
   "codemirror_mode": {
    "name": "ipython",
    "version": 3
   },
   "file_extension": ".py",
   "mimetype": "text/x-python",
   "name": "python",
   "nbconvert_exporter": "python",
   "pygments_lexer": "ipython3",
   "version": "3.11.4"
  }
 },
 "nbformat": 4,
 "nbformat_minor": 5
}
