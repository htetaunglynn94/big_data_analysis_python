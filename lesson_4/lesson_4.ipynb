{
 "cells": [
  {
   "cell_type": "markdown",
   "id": "6e1c64b5-33a2-465d-9722-be6b511dc3a0",
   "metadata": {},
   "source": [
    "# Pyspark"
   ]
  },
  {
   "cell_type": "code",
   "execution_count": 1,
   "id": "9a394630-1040-47ad-846d-8b2b54528a9b",
   "metadata": {
    "tags": []
   },
   "outputs": [
    {
     "name": "stdout",
     "output_type": "stream",
     "text": [
      "Requirement already satisfied: pyspark in /home/htetaunglynn/anaconda3/lib/python3.11/site-packages (3.5.3)\n",
      "Requirement already satisfied: py4j==0.10.9.7 in /home/htetaunglynn/anaconda3/lib/python3.11/site-packages (from pyspark) (0.10.9.7)\n",
      "\u001b[33mWARNING: There was an error checking the latest version of pip.\u001b[0m\u001b[33m\n",
      "\u001b[0m"
     ]
    }
   ],
   "source": [
    "!pip install pyspark"
   ]
  },
  {
   "cell_type": "markdown",
   "id": "7a892aee-9b39-4d47-a6bc-e16ba925c6bc",
   "metadata": {},
   "source": [
    "### SparkContext\n",
    "\n",
    "In PySpark, `SparkContext` is the entry point to interact with Apache Spark. It represents the connection to a Spark cluster, enabling communication between the application and the cluster to perform distributed data processing.\n",
    "\n",
    "Here’s what it does and why it’s important:\n",
    "\n",
    "__Core of PySpark__: `SparkContext` allows your PySpark program to interact with the Spark cluster, enabling operations like reading data, transforming it, and saving results.\n",
    "\n",
    "__Driver Program__: When a Spark job runs, the SparkContext acts as a driver program, coordinating the execution of parallel operations across the cluster.\n",
    "\n",
    "__RDD Creation__: It is used to create RDDs (Resilient Distributed Datasets), which are the basic distributed data structures in Spark for performing operations.\n",
    "\n",
    "__Cluster Management__: It helps manage and control the cluster resources, ensuring that tasks are distributed across worker nodes.  \n",
    "\n",
    "### SQLContext\n",
    "`SQLContext` in PySpark is a class that was used to work with structured data before the introduction of SparkSession in Spark 2.0. It was designed to provide access to SQL-like functionality in Spark, allowing users to create and query DataFrames.\n",
    "\n",
    "### `SQLContext` and `SparkSession`  \n",
    "Starting from Spark 2.0, SparkSession replaced SQLContext as the main entry point for working with DataFrames and SQL. In fact, SparkSession integrates SQLContext functionality and more, making it a more unified and efficient API.  \n",
    "\n",
    "### `from pyspark.sql import *`\n",
    "\n",
    "When you use this **_wildcard import_**, it brings in many classes and functions, including:\n",
    "\n",
    "- __SparkSession__: The main entry point for DataFrame and SQL functionality.\n",
    "- __SQLContext__: An older entry point for working with structured data.\n",
    "- __DataFrame__: A distributed collection of data organized into named columns.\n",
    "- __Row__: A class representing a row in a DataFrame.\n",
    "- __DataFrameReader__: For reading data from external sources into a DataFrame.\n",
    "- __DataFrameWriter__: For writing DataFrame data to external storage systems.\n",
    "- __functions__: A module with built-in SQL functions like col, lit, etc."
   ]
  },
  {
   "cell_type": "code",
   "execution_count": 43,
   "id": "68648e3b-f3ce-41db-87be-9069a912c552",
   "metadata": {
    "tags": []
   },
   "outputs": [],
   "source": [
    "from pyspark import SparkContext\n",
    "from pyspark.sql import SQLContext\n",
    "from pyspark.sql import *\n",
    "import pandas as pd\n",
    "import seaborn as sns\n",
    "import matplotlib.pyplot as plt"
   ]
  },
  {
   "cell_type": "code",
   "execution_count": 2,
   "id": "a1ba45db-b716-43fa-b745-3280e16af68d",
   "metadata": {
    "tags": []
   },
   "outputs": [
    {
     "name": "stderr",
     "output_type": "stream",
     "text": [
      "24/10/23 17:13:47 WARN Utils: Your hostname, htetaunglynn-XPS-13-9310 resolves to a loopback address: 127.0.1.1; using 192.168.1.108 instead (on interface wlp0s20f3)\n",
      "24/10/23 17:13:47 WARN Utils: Set SPARK_LOCAL_IP if you need to bind to another address\n",
      "Setting default log level to \"WARN\".\n",
      "To adjust logging level use sc.setLogLevel(newLevel). For SparkR, use setLogLevel(newLevel).\n",
      "24/10/23 17:13:48 WARN NativeCodeLoader: Unable to load native-hadoop library for your platform... using builtin-java classes where applicable\n",
      "/home/htetaunglynn/anaconda3/lib/python3.11/site-packages/pyspark/sql/context.py:113: FutureWarning: Deprecated in 3.0.0. Use SparkSession.builder.getOrCreate() instead.\n",
      "  warnings.warn(\n"
     ]
    }
   ],
   "source": [
    "sc = SparkContext()\n",
    "sqlc = SQLContext(sc)\n",
    "# need to run just once. running again throws an error"
   ]
  },
  {
   "cell_type": "code",
   "execution_count": 3,
   "id": "ae6e896a-bc79-4132-b5b7-9d9e61be4b60",
   "metadata": {
    "tags": []
   },
   "outputs": [],
   "source": [
    "na_schema = Row(\"Name\",\"Age\")"
   ]
  },
  {
   "cell_type": "code",
   "execution_count": 4,
   "id": "650312db-ea8f-4680-8595-a528af4d89ac",
   "metadata": {
    "tags": []
   },
   "outputs": [],
   "source": [
    "row1 = na_schema(\"Ankit\", 23) \n",
    "row2 = na_schema(\"Tyler\", 26)\n",
    "row3 = na_schema(\"Preity\", 36)"
   ]
  },
  {
   "cell_type": "code",
   "execution_count": 5,
   "id": "ce703bf8-9882-488f-9513-f2df9f6afb0a",
   "metadata": {
    "tags": []
   },
   "outputs": [
    {
     "data": {
      "text/plain": [
       "pyspark.sql.dataframe.DataFrame"
      ]
     },
     "execution_count": 5,
     "metadata": {},
     "output_type": "execute_result"
    }
   ],
   "source": [
    "na_list = [row1, row2, row3]\n",
    "df_na = sqlc.createDataFrame(na_list)\n",
    "type(df_na)"
   ]
  },
  {
   "cell_type": "code",
   "execution_count": 6,
   "id": "748d66ab-e570-47cb-8958-de7d414eb768",
   "metadata": {
    "tags": []
   },
   "outputs": [
    {
     "name": "stderr",
     "output_type": "stream",
     "text": [
      "                                                                                \r"
     ]
    },
    {
     "name": "stdout",
     "output_type": "stream",
     "text": [
      "+------+---+\n",
      "|  Name|Age|\n",
      "+------+---+\n",
      "| Ankit| 23|\n",
      "| Tyler| 26|\n",
      "|Preity| 36|\n",
      "+------+---+\n",
      "\n"
     ]
    }
   ],
   "source": [
    "df_na.show()"
   ]
  },
  {
   "cell_type": "code",
   "execution_count": 7,
   "id": "0b5576ed-13da-40c3-a8c5-242432712c9d",
   "metadata": {
    "tags": []
   },
   "outputs": [
    {
     "name": "stdout",
     "output_type": "stream",
     "text": [
      "+------+---+\n",
      "|    _1| _2|\n",
      "+------+---+\n",
      "| Ankit| 23|\n",
      "| Tyler| 26|\n",
      "|Preity| 36|\n",
      "+------+---+\n",
      "\n"
     ]
    }
   ],
   "source": [
    "data = [(\"Ankit\",23),(\"Tyler\",26),(\"Preity\",36)]\n",
    "data_rdd = sc.parallelize(data)\n",
    "type(data_rdd)\n",
    "\n",
    "data_sd = sqlc.createDataFrame(data_rdd)\n",
    "data_sd.show()"
   ]
  },
  {
   "cell_type": "markdown",
   "id": "88e57d6d-ad42-419b-8b76-21cb6de9ea29",
   "metadata": {},
   "source": [
    "install this package pyspark –packages com.databricks:spark-csv_2.10:1.4.0"
   ]
  },
  {
   "cell_type": "code",
   "execution_count": 8,
   "id": "d4610c4a-7c8c-4a99-a0ee-5408bb801ce4",
   "metadata": {
    "tags": []
   },
   "outputs": [],
   "source": [
    "!rm iris.csv"
   ]
  },
  {
   "cell_type": "code",
   "execution_count": 10,
   "id": "cf7990e7-16c4-4dc9-93d5-8224f7b0d4dc",
   "metadata": {
    "tags": []
   },
   "outputs": [
    {
     "data": {
      "text/plain": [
       "pyspark.sql.dataframe.DataFrame"
      ]
     },
     "execution_count": 10,
     "metadata": {},
     "output_type": "execute_result"
    }
   ],
   "source": [
    "df = sqlc.read.format('csv') \\\n",
    "            .options(header='true', inferschema='true') \\\n",
    "            .load('iris.csv')\n",
    "type(df)"
   ]
  },
  {
   "cell_type": "code",
   "execution_count": 11,
   "id": "719e1f48-5f19-47f8-93e6-ed3830315350",
   "metadata": {
    "tags": []
   },
   "outputs": [
    {
     "name": "stdout",
     "output_type": "stream",
     "text": [
      "+------------+-----------+------------+-----------+-------+\n",
      "|sepal_length|sepal_width|petal_length|petal_width|species|\n",
      "+------------+-----------+------------+-----------+-------+\n",
      "|         5.1|        3.5|         1.4|        0.2| setosa|\n",
      "|         4.9|        3.0|         1.4|        0.2| setosa|\n",
      "|         4.7|        3.2|         1.3|        0.2| setosa|\n",
      "|         4.6|        3.1|         1.5|        0.2| setosa|\n",
      "|         5.0|        3.6|         1.4|        0.2| setosa|\n",
      "|         5.4|        3.9|         1.7|        0.4| setosa|\n",
      "|         4.6|        3.4|         1.4|        0.3| setosa|\n",
      "|         5.0|        3.4|         1.5|        0.2| setosa|\n",
      "|         4.4|        2.9|         1.4|        0.2| setosa|\n",
      "|         4.9|        3.1|         1.5|        0.1| setosa|\n",
      "|         5.4|        3.7|         1.5|        0.2| setosa|\n",
      "|         4.8|        3.4|         1.6|        0.2| setosa|\n",
      "|         4.8|        3.0|         1.4|        0.1| setosa|\n",
      "|         4.3|        3.0|         1.1|        0.1| setosa|\n",
      "|         5.8|        4.0|         1.2|        0.2| setosa|\n",
      "|         5.7|        4.4|         1.5|        0.4| setosa|\n",
      "|         5.4|        3.9|         1.3|        0.4| setosa|\n",
      "|         5.1|        3.5|         1.4|        0.3| setosa|\n",
      "|         5.7|        3.8|         1.7|        0.3| setosa|\n",
      "|         5.1|        3.8|         1.5|        0.3| setosa|\n",
      "+------------+-----------+------------+-----------+-------+\n",
      "only showing top 20 rows\n",
      "\n"
     ]
    }
   ],
   "source": [
    "df.show()"
   ]
  },
  {
   "cell_type": "code",
   "execution_count": 12,
   "id": "e079e799-3d28-4546-abf7-e6f5ab421771",
   "metadata": {
    "tags": []
   },
   "outputs": [
    {
     "data": {
      "text/html": [
       "<div>\n",
       "<style scoped>\n",
       "    .dataframe tbody tr th:only-of-type {\n",
       "        vertical-align: middle;\n",
       "    }\n",
       "\n",
       "    .dataframe tbody tr th {\n",
       "        vertical-align: top;\n",
       "    }\n",
       "\n",
       "    .dataframe thead th {\n",
       "        text-align: right;\n",
       "    }\n",
       "</style>\n",
       "<table border=\"1\" class=\"dataframe\">\n",
       "  <thead>\n",
       "    <tr style=\"text-align: right;\">\n",
       "      <th></th>\n",
       "      <th>sepal_length</th>\n",
       "      <th>sepal_width</th>\n",
       "      <th>petal_length</th>\n",
       "      <th>petal_width</th>\n",
       "      <th>species</th>\n",
       "    </tr>\n",
       "  </thead>\n",
       "  <tbody>\n",
       "    <tr>\n",
       "      <th>0</th>\n",
       "      <td>5.1</td>\n",
       "      <td>3.5</td>\n",
       "      <td>1.4</td>\n",
       "      <td>0.2</td>\n",
       "      <td>setosa</td>\n",
       "    </tr>\n",
       "    <tr>\n",
       "      <th>1</th>\n",
       "      <td>4.9</td>\n",
       "      <td>3.0</td>\n",
       "      <td>1.4</td>\n",
       "      <td>0.2</td>\n",
       "      <td>setosa</td>\n",
       "    </tr>\n",
       "    <tr>\n",
       "      <th>2</th>\n",
       "      <td>4.7</td>\n",
       "      <td>3.2</td>\n",
       "      <td>1.3</td>\n",
       "      <td>0.2</td>\n",
       "      <td>setosa</td>\n",
       "    </tr>\n",
       "    <tr>\n",
       "      <th>3</th>\n",
       "      <td>4.6</td>\n",
       "      <td>3.1</td>\n",
       "      <td>1.5</td>\n",
       "      <td>0.2</td>\n",
       "      <td>setosa</td>\n",
       "    </tr>\n",
       "    <tr>\n",
       "      <th>4</th>\n",
       "      <td>5.0</td>\n",
       "      <td>3.6</td>\n",
       "      <td>1.4</td>\n",
       "      <td>0.2</td>\n",
       "      <td>setosa</td>\n",
       "    </tr>\n",
       "    <tr>\n",
       "      <th>...</th>\n",
       "      <td>...</td>\n",
       "      <td>...</td>\n",
       "      <td>...</td>\n",
       "      <td>...</td>\n",
       "      <td>...</td>\n",
       "    </tr>\n",
       "    <tr>\n",
       "      <th>145</th>\n",
       "      <td>6.7</td>\n",
       "      <td>3.0</td>\n",
       "      <td>5.2</td>\n",
       "      <td>2.3</td>\n",
       "      <td>virginica</td>\n",
       "    </tr>\n",
       "    <tr>\n",
       "      <th>146</th>\n",
       "      <td>6.3</td>\n",
       "      <td>2.5</td>\n",
       "      <td>5.0</td>\n",
       "      <td>1.9</td>\n",
       "      <td>virginica</td>\n",
       "    </tr>\n",
       "    <tr>\n",
       "      <th>147</th>\n",
       "      <td>6.5</td>\n",
       "      <td>3.0</td>\n",
       "      <td>5.2</td>\n",
       "      <td>2.0</td>\n",
       "      <td>virginica</td>\n",
       "    </tr>\n",
       "    <tr>\n",
       "      <th>148</th>\n",
       "      <td>6.2</td>\n",
       "      <td>3.4</td>\n",
       "      <td>5.4</td>\n",
       "      <td>2.3</td>\n",
       "      <td>virginica</td>\n",
       "    </tr>\n",
       "    <tr>\n",
       "      <th>149</th>\n",
       "      <td>5.9</td>\n",
       "      <td>3.0</td>\n",
       "      <td>5.1</td>\n",
       "      <td>1.8</td>\n",
       "      <td>virginica</td>\n",
       "    </tr>\n",
       "  </tbody>\n",
       "</table>\n",
       "<p>150 rows × 5 columns</p>\n",
       "</div>"
      ],
      "text/plain": [
       "     sepal_length  sepal_width  petal_length  petal_width    species\n",
       "0             5.1          3.5           1.4          0.2     setosa\n",
       "1             4.9          3.0           1.4          0.2     setosa\n",
       "2             4.7          3.2           1.3          0.2     setosa\n",
       "3             4.6          3.1           1.5          0.2     setosa\n",
       "4             5.0          3.6           1.4          0.2     setosa\n",
       "..            ...          ...           ...          ...        ...\n",
       "145           6.7          3.0           5.2          2.3  virginica\n",
       "146           6.3          2.5           5.0          1.9  virginica\n",
       "147           6.5          3.0           5.2          2.0  virginica\n",
       "148           6.2          3.4           5.4          2.3  virginica\n",
       "149           5.9          3.0           5.1          1.8  virginica\n",
       "\n",
       "[150 rows x 5 columns]"
      ]
     },
     "execution_count": 12,
     "metadata": {},
     "output_type": "execute_result"
    }
   ],
   "source": [
    "df.toPandas() # change to pandas dataframe"
   ]
  },
  {
   "cell_type": "code",
   "execution_count": 13,
   "id": "3b8ca2d5-f76c-4c51-9c60-b93eafa59966",
   "metadata": {
    "tags": []
   },
   "outputs": [],
   "source": [
    "df.toPandas().to_csv('iris_export.csv')"
   ]
  },
  {
   "cell_type": "code",
   "execution_count": 14,
   "id": "fa67781f-aa56-4c26-9574-c6ee0e920575",
   "metadata": {
    "tags": []
   },
   "outputs": [
    {
     "name": "stdout",
     "output_type": "stream",
     "text": [
      "root\n",
      " |-- sepal_length: double (nullable = true)\n",
      " |-- sepal_width: double (nullable = true)\n",
      " |-- petal_length: double (nullable = true)\n",
      " |-- petal_width: double (nullable = true)\n",
      " |-- species: string (nullable = true)\n",
      "\n"
     ]
    }
   ],
   "source": [
    "df.printSchema()"
   ]
  },
  {
   "cell_type": "code",
   "execution_count": 15,
   "id": "bc1299c5-1a15-4078-aec7-d51978d65b05",
   "metadata": {
    "tags": []
   },
   "outputs": [
    {
     "data": {
      "text/plain": [
       "['sepal_length', 'sepal_width', 'petal_length', 'petal_width', 'species']"
      ]
     },
     "execution_count": 15,
     "metadata": {},
     "output_type": "execute_result"
    }
   ],
   "source": [
    "df.schema.names"
   ]
  },
  {
   "cell_type": "code",
   "execution_count": 16,
   "id": "00ecc802-b73f-4149-9076-74fd5975229c",
   "metadata": {
    "tags": []
   },
   "outputs": [
    {
     "data": {
      "text/plain": [
       "150"
      ]
     },
     "execution_count": 16,
     "metadata": {},
     "output_type": "execute_result"
    }
   ],
   "source": [
    "df.count()"
   ]
  },
  {
   "cell_type": "code",
   "execution_count": 17,
   "id": "25d76a8b-5234-45bf-8a92-dc9b13764fe5",
   "metadata": {
    "tags": []
   },
   "outputs": [
    {
     "data": {
      "text/plain": [
       "5"
      ]
     },
     "execution_count": 17,
     "metadata": {},
     "output_type": "execute_result"
    }
   ],
   "source": [
    "len(df.columns)"
   ]
  },
  {
   "cell_type": "code",
   "execution_count": 18,
   "id": "814c6434-7aae-46ad-8699-fb6788a69520",
   "metadata": {
    "tags": []
   },
   "outputs": [
    {
     "name": "stdout",
     "output_type": "stream",
     "text": [
      "+------------+-----------+------------+-----------+-------+\n",
      "|sepal_length|sepal_width|petal_length|petal_width|species|\n",
      "+------------+-----------+------------+-----------+-------+\n",
      "|         5.1|        3.5|         1.4|        0.2| setosa|\n",
      "|         4.9|        3.0|         1.4|        0.2| setosa|\n",
      "|         4.7|        3.2|         1.3|        0.2| setosa|\n",
      "|         4.6|        3.1|         1.5|        0.2| setosa|\n",
      "|         5.0|        3.6|         1.4|        0.2| setosa|\n",
      "|         5.4|        3.9|         1.7|        0.4| setosa|\n",
      "|         4.6|        3.4|         1.4|        0.3| setosa|\n",
      "|         5.0|        3.4|         1.5|        0.2| setosa|\n",
      "|         4.4|        2.9|         1.4|        0.2| setosa|\n",
      "|         4.9|        3.1|         1.5|        0.1| setosa|\n",
      "|         5.4|        3.7|         1.5|        0.2| setosa|\n",
      "|         4.8|        3.4|         1.6|        0.2| setosa|\n",
      "|         4.8|        3.0|         1.4|        0.1| setosa|\n",
      "|         4.3|        3.0|         1.1|        0.1| setosa|\n",
      "|         5.8|        4.0|         1.2|        0.2| setosa|\n",
      "|         5.7|        4.4|         1.5|        0.4| setosa|\n",
      "|         5.4|        3.9|         1.3|        0.4| setosa|\n",
      "|         5.1|        3.5|         1.4|        0.3| setosa|\n",
      "|         5.7|        3.8|         1.7|        0.3| setosa|\n",
      "|         5.1|        3.8|         1.5|        0.3| setosa|\n",
      "+------------+-----------+------------+-----------+-------+\n",
      "only showing top 20 rows\n",
      "\n"
     ]
    }
   ],
   "source": [
    "df.show()"
   ]
  },
  {
   "cell_type": "code",
   "execution_count": 19,
   "id": "c2264c83-5574-4a09-81df-16e29187b2d6",
   "metadata": {
    "tags": []
   },
   "outputs": [
    {
     "name": "stderr",
     "output_type": "stream",
     "text": [
      "24/10/23 17:14:13 WARN SparkStringUtils: Truncated the string representation of a plan since it was too large. This behavior can be adjusted by setting 'spark.sql.debug.maxToStringFields'.\n"
     ]
    },
    {
     "name": "stdout",
     "output_type": "stream",
     "text": [
      "+-------+------------------+-------------------+------------------+------------------+---------+\n",
      "|summary|      sepal_length|        sepal_width|      petal_length|       petal_width|  species|\n",
      "+-------+------------------+-------------------+------------------+------------------+---------+\n",
      "|  count|               150|                150|               150|               150|      150|\n",
      "|   mean| 5.843333333333335| 3.0540000000000007|3.7586666666666693|1.1986666666666672|     NULL|\n",
      "| stddev|0.8280661279778637|0.43359431136217375| 1.764420419952262|0.7631607417008414|     NULL|\n",
      "|    min|               4.3|                2.0|               1.0|               0.1|   setosa|\n",
      "|    max|               7.9|                4.4|               6.9|               2.5|virginica|\n",
      "+-------+------------------+-------------------+------------------+------------------+---------+\n",
      "\n"
     ]
    }
   ],
   "source": [
    "df.describe().show()"
   ]
  },
  {
   "cell_type": "code",
   "execution_count": 20,
   "id": "b762fee1-4aaa-4d99-b469-f26ff89e20ea",
   "metadata": {
    "tags": []
   },
   "outputs": [
    {
     "name": "stdout",
     "output_type": "stream",
     "text": [
      "+-------+-------------------+\n",
      "|summary|        sepal_width|\n",
      "+-------+-------------------+\n",
      "|  count|                150|\n",
      "|   mean| 3.0540000000000007|\n",
      "| stddev|0.43359431136217375|\n",
      "|    min|                2.0|\n",
      "|    max|                4.4|\n",
      "+-------+-------------------+\n",
      "\n"
     ]
    }
   ],
   "source": [
    "df.describe('sepal_width').show()"
   ]
  },
  {
   "cell_type": "code",
   "execution_count": 21,
   "id": "bd85d132-8c05-4ee5-b70b-360c35ecff96",
   "metadata": {
    "tags": []
   },
   "outputs": [
    {
     "name": "stdout",
     "output_type": "stream",
     "text": [
      "+------------+----------+------------+-----------+-------+\n",
      "|sepal_length|SepalWidth|petal_length|petal_width|species|\n",
      "+------------+----------+------------+-----------+-------+\n",
      "|         5.1|       3.5|         1.4|        0.2| setosa|\n",
      "|         4.9|       3.0|         1.4|        0.2| setosa|\n",
      "|         4.7|       3.2|         1.3|        0.2| setosa|\n",
      "|         4.6|       3.1|         1.5|        0.2| setosa|\n",
      "|         5.0|       3.6|         1.4|        0.2| setosa|\n",
      "+------------+----------+------------+-----------+-------+\n",
      "only showing top 5 rows\n",
      "\n"
     ]
    }
   ],
   "source": [
    "df = df.withColumnRenamed('sepal_width','SepalWidth')\n",
    "df.show(5)"
   ]
  },
  {
   "cell_type": "code",
   "execution_count": 22,
   "id": "c5b525c6-c939-48d3-8276-b449e6a05494",
   "metadata": {
    "tags": []
   },
   "outputs": [
    {
     "name": "stdout",
     "output_type": "stream",
     "text": [
      "+----------+------------+\n",
      "|SepalWidth|sepal_length|\n",
      "+----------+------------+\n",
      "|       3.5|         5.1|\n",
      "|       3.0|         4.9|\n",
      "|       3.2|         4.7|\n",
      "|       3.1|         4.6|\n",
      "+----------+------------+\n",
      "only showing top 4 rows\n",
      "\n"
     ]
    }
   ],
   "source": [
    "df.select('SepalWidth','sepal_length').show(4)"
   ]
  },
  {
   "cell_type": "code",
   "execution_count": 23,
   "id": "0ef53392-8051-40a9-bf64-457006bcaca4",
   "metadata": {
    "tags": []
   },
   "outputs": [
    {
     "name": "stdout",
     "output_type": "stream",
     "text": [
      "+------------+----------+------------+-----------+-------+----------------+\n",
      "|sepal_length|SepalWidth|petal_length|petal_width|species|half_sepal_width|\n",
      "+------------+----------+------------+-----------+-------+----------------+\n",
      "|         5.1|       3.5|         1.4|        0.2| setosa|            1.75|\n",
      "|         4.9|       3.0|         1.4|        0.2| setosa|             1.5|\n",
      "|         4.7|       3.2|         1.3|        0.2| setosa|             1.6|\n",
      "|         4.6|       3.1|         1.5|        0.2| setosa|            1.55|\n",
      "+------------+----------+------------+-----------+-------+----------------+\n",
      "only showing top 4 rows\n",
      "\n"
     ]
    }
   ],
   "source": [
    "df = df.withColumn('half_sepal_width', df['SepalWidth']/2)\n",
    "df.show(4)"
   ]
  },
  {
   "cell_type": "code",
   "execution_count": 24,
   "id": "70cdf95a-2eec-4a6e-88d8-0b08903df498",
   "metadata": {
    "tags": []
   },
   "outputs": [],
   "source": [
    "df = df.drop('half_sepal_width')"
   ]
  },
  {
   "cell_type": "code",
   "execution_count": 25,
   "id": "830926d4-ff68-47d9-9c53-b38b7fd3f3ac",
   "metadata": {
    "tags": []
   },
   "outputs": [
    {
     "name": "stdout",
     "output_type": "stream",
     "text": [
      "+------------+----------+------------+-----------+-------+\n",
      "|sepal_length|SepalWidth|petal_length|petal_width|species|\n",
      "+------------+----------+------------+-----------+-------+\n",
      "|         5.1|       3.5|         1.4|        0.2| setosa|\n",
      "|         4.9|       3.0|         1.4|        0.2| setosa|\n",
      "|         4.7|       3.2|         1.3|        0.2| setosa|\n",
      "|         4.6|       3.1|         1.5|        0.2| setosa|\n",
      "+------------+----------+------------+-----------+-------+\n",
      "only showing top 4 rows\n",
      "\n"
     ]
    }
   ],
   "source": [
    "df.show(4)"
   ]
  },
  {
   "cell_type": "code",
   "execution_count": 26,
   "id": "612c2b6b-7f02-4c04-9288-890b49c115a8",
   "metadata": {
    "tags": []
   },
   "outputs": [
    {
     "name": "stdout",
     "output_type": "stream",
     "text": [
      "+----------+\n",
      "|   species|\n",
      "+----------+\n",
      "| virginica|\n",
      "|versicolor|\n",
      "|    setosa|\n",
      "+----------+\n",
      "\n"
     ]
    }
   ],
   "source": [
    "df.select('species').distinct().show(5)"
   ]
  },
  {
   "cell_type": "code",
   "execution_count": 27,
   "id": "e73c4ece-b6df-44a0-b8e4-240a1ec2e498",
   "metadata": {
    "tags": []
   },
   "outputs": [
    {
     "data": {
      "text/plain": [
       "3"
      ]
     },
     "execution_count": 27,
     "metadata": {},
     "output_type": "execute_result"
    }
   ],
   "source": [
    "df.select('species').distinct().count()"
   ]
  },
  {
   "cell_type": "code",
   "execution_count": 28,
   "id": "ac9aa581-187a-45c1-b457-cec884fe635c",
   "metadata": {
    "tags": []
   },
   "outputs": [
    {
     "name": "stdout",
     "output_type": "stream",
     "text": [
      "+----------+\n",
      "|   species|\n",
      "+----------+\n",
      "| virginica|\n",
      "|versicolor|\n",
      "|    setosa|\n",
      "+----------+\n",
      "\n"
     ]
    }
   ],
   "source": [
    "df.select('species').dropDuplicates().show()"
   ]
  },
  {
   "cell_type": "code",
   "execution_count": 29,
   "id": "7ad795dc-5576-41bd-a665-59be0b670411",
   "metadata": {
    "tags": []
   },
   "outputs": [
    {
     "name": "stdout",
     "output_type": "stream",
     "text": [
      "+------------+----------+------------+-----------+-------+\n",
      "|sepal_length|SepalWidth|petal_length|petal_width|species|\n",
      "+------------+----------+------------+-----------+-------+\n",
      "|         5.1|       3.5|         1.4|        0.2| setosa|\n",
      "|         4.9|       3.0|         1.4|        0.2| setosa|\n",
      "|         4.7|       3.2|         1.3|        0.2| setosa|\n",
      "|         4.6|       3.1|         1.5|        0.2| setosa|\n",
      "+------------+----------+------------+-----------+-------+\n",
      "only showing top 4 rows\n",
      "\n"
     ]
    }
   ],
   "source": [
    "# Filtering using a single condition\n",
    "df.filter(df.species == 'setosa').show(4)"
   ]
  },
  {
   "cell_type": "code",
   "execution_count": 30,
   "id": "51f6c780-7acd-49a7-a3b8-7fd90dd5451f",
   "metadata": {
    "tags": []
   },
   "outputs": [
    {
     "name": "stdout",
     "output_type": "stream",
     "text": [
      "+------------+----------+------------+-----------+-------+\n",
      "|sepal_length|SepalWidth|petal_length|petal_width|species|\n",
      "+------------+----------+------------+-----------+-------+\n",
      "|         5.1|       3.5|         1.4|        0.2| setosa|\n",
      "|         5.4|       3.9|         1.7|        0.4| setosa|\n",
      "|         5.4|       3.7|         1.5|        0.2| setosa|\n",
      "|         5.8|       4.0|         1.2|        0.2| setosa|\n",
      "+------------+----------+------------+-----------+-------+\n",
      "only showing top 4 rows\n",
      "\n"
     ]
    }
   ],
   "source": [
    "df.filter((df.sepal_length > 5) & (df.species == 'setosa')).show(4)"
   ]
  },
  {
   "cell_type": "code",
   "execution_count": 32,
   "id": "abcdfc00-3d18-406b-9ed0-25c99ca80f12",
   "metadata": {
    "tags": []
   },
   "outputs": [
    {
     "name": "stdout",
     "output_type": "stream",
     "text": [
      "+------------+----------+------------+-----------+-------+\n",
      "|sepal_length|SepalWidth|petal_length|petal_width|species|\n",
      "+------------+----------+------------+-----------+-------+\n",
      "|         4.3|       3.0|         1.1|        0.1| setosa|\n",
      "|         4.4|       3.2|         1.3|        0.2| setosa|\n",
      "|         4.4|       2.9|         1.4|        0.2| setosa|\n",
      "|         4.4|       3.0|         1.3|        0.2| setosa|\n",
      "|         4.5|       2.3|         1.3|        0.3| setosa|\n",
      "+------------+----------+------------+-----------+-------+\n",
      "only showing top 5 rows\n",
      "\n"
     ]
    }
   ],
   "source": [
    "df.orderBy(df.sepal_length).show(5)"
   ]
  },
  {
   "cell_type": "code",
   "execution_count": 36,
   "id": "fe778a1f-eb6f-4c35-a7ab-edcba7ba999f",
   "metadata": {
    "tags": []
   },
   "outputs": [
    {
     "name": "stdout",
     "output_type": "stream",
     "text": [
      "+------------+----------+------------+-----------+-------+\n",
      "|sepal_length|SepalWidth|petal_length|petal_width|species|\n",
      "+------------+----------+------------+-----------+-------+\n",
      "|         4.3|       3.0|         1.1|        0.1| setosa|\n",
      "|         4.4|       3.2|         1.3|        0.2| setosa|\n",
      "|         4.4|       2.9|         1.4|        0.2| setosa|\n",
      "|         4.4|       3.0|         1.3|        0.2| setosa|\n",
      "|         4.5|       2.3|         1.3|        0.3| setosa|\n",
      "+------------+----------+------------+-----------+-------+\n",
      "only showing top 5 rows\n",
      "\n"
     ]
    }
   ],
   "source": [
    "df.orderBy(df.sepal_length.asc()).show(5) # sort ascending order"
   ]
  },
  {
   "cell_type": "code",
   "execution_count": 38,
   "id": "9ef968c2-c47e-472a-8462-f496b583714e",
   "metadata": {
    "tags": []
   },
   "outputs": [
    {
     "name": "stdout",
     "output_type": "stream",
     "text": [
      "+------------+----------+------------+-----------+---------+\n",
      "|sepal_length|SepalWidth|petal_length|petal_width|  species|\n",
      "+------------+----------+------------+-----------+---------+\n",
      "|         7.9|       3.8|         6.4|        2.0|virginica|\n",
      "|         7.7|       3.8|         6.7|        2.2|virginica|\n",
      "|         7.7|       2.8|         6.7|        2.0|virginica|\n",
      "|         7.7|       2.6|         6.9|        2.3|virginica|\n",
      "|         7.7|       3.0|         6.1|        2.3|virginica|\n",
      "+------------+----------+------------+-----------+---------+\n",
      "only showing top 5 rows\n",
      "\n"
     ]
    }
   ],
   "source": [
    "df.orderBy(df.sepal_length.desc()).show(5) # sort descending order"
   ]
  },
  {
   "cell_type": "code",
   "execution_count": 39,
   "id": "311f25b7-7a52-4aa3-96aa-67b253ab756f",
   "metadata": {
    "tags": []
   },
   "outputs": [
    {
     "name": "stdout",
     "output_type": "stream",
     "text": [
      "+----------+------------------+\n",
      "|   Species|   avg(SepalWidth)|\n",
      "+----------+------------------+\n",
      "| virginica|2.9739999999999998|\n",
      "|versicolor|2.7700000000000005|\n",
      "|    setosa|3.4180000000000006|\n",
      "+----------+------------------+\n",
      "\n"
     ]
    }
   ],
   "source": [
    "df.groupby('species').agg({'SepalWidth' : 'mean'}).show()"
   ]
  },
  {
   "cell_type": "code",
   "execution_count": 40,
   "id": "556d6c08-be57-483e-a740-bcc8f5264ee6",
   "metadata": {
    "tags": []
   },
   "outputs": [
    {
     "name": "stdout",
     "output_type": "stream",
     "text": [
      "+----------+-----+\n",
      "|   species|count|\n",
      "+----------+-----+\n",
      "| virginica|   50|\n",
      "|versicolor|   50|\n",
      "|    setosa|   50|\n",
      "+----------+-----+\n",
      "\n"
     ]
    }
   ],
   "source": [
    "df.groupby('species').count().show()"
   ]
  },
  {
   "cell_type": "code",
   "execution_count": 45,
   "id": "dd588dbc-3b18-491e-9b4d-3fddf532485b",
   "metadata": {
    "tags": []
   },
   "outputs": [
    {
     "data": {
      "text/html": [
       "<div>\n",
       "<style scoped>\n",
       "    .dataframe tbody tr th:only-of-type {\n",
       "        vertical-align: middle;\n",
       "    }\n",
       "\n",
       "    .dataframe tbody tr th {\n",
       "        vertical-align: top;\n",
       "    }\n",
       "\n",
       "    .dataframe thead th {\n",
       "        text-align: right;\n",
       "    }\n",
       "</style>\n",
       "<table border=\"1\" class=\"dataframe\">\n",
       "  <thead>\n",
       "    <tr style=\"text-align: right;\">\n",
       "      <th></th>\n",
       "      <th>species</th>\n",
       "      <th>count</th>\n",
       "    </tr>\n",
       "  </thead>\n",
       "  <tbody>\n",
       "    <tr>\n",
       "      <th>0</th>\n",
       "      <td>virginica</td>\n",
       "      <td>50</td>\n",
       "    </tr>\n",
       "    <tr>\n",
       "      <th>1</th>\n",
       "      <td>versicolor</td>\n",
       "      <td>50</td>\n",
       "    </tr>\n",
       "    <tr>\n",
       "      <th>2</th>\n",
       "      <td>setosa</td>\n",
       "      <td>50</td>\n",
       "    </tr>\n",
       "  </tbody>\n",
       "</table>\n",
       "</div>"
      ],
      "text/plain": [
       "      species  count\n",
       "0   virginica     50\n",
       "1  versicolor     50\n",
       "2      setosa     50"
      ]
     },
     "execution_count": 45,
     "metadata": {},
     "output_type": "execute_result"
    }
   ],
   "source": [
    "data = df.groupby('species').count().toPandas()\n",
    "data"
   ]
  },
  {
   "cell_type": "code",
   "execution_count": 46,
   "id": "4227a5cf-8484-4922-bf28-dc0f13608ac1",
   "metadata": {
    "tags": []
   },
   "outputs": [
    {
     "data": {
      "text/plain": [
       "Text(0.5, 1.0, 'Number of rows per species')"
      ]
     },
     "execution_count": 46,
     "metadata": {},
     "output_type": "execute_result"
    },
    {
     "data": {
      "image/png": "[encoded data removed]",
      "text/plain": [
       "<Figure size 640x480 with 1 Axes>"
      ]
     },
     "metadata": {},
     "output_type": "display_data"
    }
   ],
   "source": [
    "sns.barplot( x = data['species'], y = data['count'])\n",
    "plt.xlabel('Species')\n",
    "plt.ylabel('Count')\n",
    "plt.title('Number of rows per species')"
   ]
  },
  {
   "cell_type": "code",
   "execution_count": 47,
   "id": "5055adea-0d71-4318-8f74-cbccc1e91146",
   "metadata": {
    "tags": []
   },
   "outputs": [
    {
     "data": {
      "image/png": "[encoded data removed]",
      "text/plain": [
       "<Figure size 500x500 with 1 Axes>"
      ]
     },
     "metadata": {},
     "output_type": "display_data"
    }
   ],
   "source": [
    "data = df.toPandas()\n",
    "sns.lmplot(x=\"sepal_length\", y=\"SepalWidth\", data=data)\n",
    "plt.show()"
   ]
  },
  {
   "cell_type": "code",
   "execution_count": 48,
   "id": "223a5577-5a0b-4364-8c9b-75d6020eda6f",
   "metadata": {
    "tags": []
   },
   "outputs": [
    {
     "name": "stderr",
     "output_type": "stream",
     "text": [
      "/tmp/ipykernel_409315/2973381662.py:2: FutureWarning: \n",
      "\n",
      "`shade` is now deprecated in favor of `fill`; setting `fill=True`.\n",
      "This will become an error in seaborn v0.14.0; please update your code.\n",
      "\n",
      "  sns.kdeplot(data.SepalWidth, shade=True)\n"
     ]
    },
    {
     "data": {
      "image/png": "[encoded data removed]",
      "text/plain": [
       "<Figure size 640x480 with 1 Axes>"
      ]
     },
     "metadata": {},
     "output_type": "display_data"
    }
   ],
   "source": [
    "data = df.toPandas()\n",
    "sns.kdeplot(data.SepalWidth, shade=True)\n",
    "plt.show()"
   ]
  },
  {
   "cell_type": "code",
   "execution_count": null,
   "id": "2b890da9-32c8-4315-8be6-bea0ec432ba6",
   "metadata": {},
   "outputs": [],
   "source": []
  }
 ],
 "metadata": {
  "kernelspec": {
   "display_name": "Python 3 (ipykernel)",
   "language": "python",
   "name": "python3"
  },
  "language_info": {
   "codemirror_mode": {
    "name": "ipython",
    "version": 3
   },
   "file_extension": ".py",
   "mimetype": "text/x-python",
   "name": "python",
   "nbconvert_exporter": "python",
   "pygments_lexer": "ipython3",
   "version": "3.11.4"
  }
 },
 "nbformat": 4,
 "nbformat_minor": 5
}
